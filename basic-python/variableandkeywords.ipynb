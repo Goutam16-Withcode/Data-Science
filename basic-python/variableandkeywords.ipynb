{
 "cells": [
  {
   "cell_type": "markdown",
   "id": "ee6ee801",
   "metadata": {},
   "source": [
    "Variable and Keyword"
   ]
  },
  {
   "cell_type": "code",
   "execution_count": 1,
   "id": "d9749e48",
   "metadata": {},
   "outputs": [],
   "source": [
    "a = 'hello world'"
   ]
  },
  {
   "cell_type": "code",
   "execution_count": 3,
   "id": "71eff9c2",
   "metadata": {},
   "outputs": [
    {
     "name": "stdout",
     "output_type": "stream",
     "text": [
      "<class 'str'>\n"
     ]
    }
   ],
   "source": [
    "print(type(a))"
   ]
  },
  {
   "cell_type": "code",
   "execution_count": 4,
   "id": "a066b2ea",
   "metadata": {},
   "outputs": [
    {
     "name": "stdout",
     "output_type": "stream",
     "text": [
      "<class 'bool'>\n"
     ]
    }
   ],
   "source": [
    "b = True\n",
    "print(type(b))"
   ]
  },
  {
   "cell_type": "code",
   "execution_count": null,
   "id": "2d8cda72",
   "metadata": {},
   "outputs": [
    {
     "data": {
      "text/plain": [
       "5"
      ]
     },
     "execution_count": 5,
     "metadata": {},
     "output_type": "execute_result"
    }
   ],
   "source": [
    "# Function to add two numbers\n",
    "def sum_func(a,b):\n",
    "    c = a + b\n",
    "    return c\n",
    "\n",
    "sum_func(2,3)"
   ]
  },
  {
   "cell_type": "code",
   "execution_count": 7,
   "id": "bd68e2cb",
   "metadata": {},
   "outputs": [
    {
     "name": "stdout",
     "output_type": "stream",
     "text": [
      "John Rai\n"
     ]
    }
   ],
   "source": [
    "name = \"John\"\n",
    "Name = \"Rai\"\n",
    "FullName = name+ \" \"  + Name\n",
    "print(FullName)"
   ]
  }
 ],
 "metadata": {
  "kernelspec": {
   "display_name": "base",
   "language": "python",
   "name": "python3"
  },
  "language_info": {
   "codemirror_mode": {
    "name": "ipython",
    "version": 3
   },
   "file_extension": ".py",
   "mimetype": "text/x-python",
   "name": "python",
   "nbconvert_exporter": "python",
   "pygments_lexer": "ipython3",
   "version": "3.13.5"
  }
 },
 "nbformat": 4,
 "nbformat_minor": 5
}
