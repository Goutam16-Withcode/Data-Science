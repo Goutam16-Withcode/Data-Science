{
 "cells": [
  {
   "cell_type": "markdown",
   "id": "09a0f286",
   "metadata": {},
   "source": [
    "# List"
   ]
  },
  {
   "cell_type": "markdown",
   "id": "3281f40b",
   "metadata": {},
   "source": [
    "\n",
    "List are oredered sequence of mixed data types\n",
    "List are written in comma separated elements within the square brackets"
   ]
  },
  {
   "cell_type": "code",
   "execution_count": 1,
   "id": "ad21fb88",
   "metadata": {},
   "outputs": [
    {
     "name": "stdout",
     "output_type": "stream",
     "text": [
      "[10, 'goutam', 20.6]\n"
     ]
    }
   ],
   "source": [
    "my_list=[10,'goutam',20.6]\n",
    "print(my_list)"
   ]
  },
  {
   "cell_type": "code",
   "execution_count": 6,
   "id": "7c579f8d",
   "metadata": {},
   "outputs": [
    {
     "name": "stdout",
     "output_type": "stream",
     "text": [
      "3\n"
     ]
    },
    {
     "data": {
      "text/plain": [
       "list"
      ]
     },
     "execution_count": 6,
     "metadata": {},
     "output_type": "execute_result"
    }
   ],
   "source": [
    "print(len(my_list))\n",
    "type(my_list)"
   ]
  },
  {
   "cell_type": "markdown",
   "id": "2e79cec8",
   "metadata": {},
   "source": [
    "# Nested List"
   ]
  },
  {
   "cell_type": "code",
   "execution_count": 7,
   "id": "94437b24",
   "metadata": {},
   "outputs": [],
   "source": [
    "list2 = [\"India\",\"Delhi\",5,60,['Rajkot','Surat','Mumbai']]\n"
   ]
  },
  {
   "cell_type": "code",
   "execution_count": 9,
   "id": "5bb7fd54",
   "metadata": {},
   "outputs": [
    {
     "data": {
      "text/plain": [
       "['Rajkot', 'Surat', 'Mumbai']"
      ]
     },
     "execution_count": 9,
     "metadata": {},
     "output_type": "execute_result"
    }
   ],
   "source": [
    "list2[4]"
   ]
  },
  {
   "cell_type": "code",
   "execution_count": null,
   "id": "59323c46",
   "metadata": {},
   "outputs": [
    {
     "data": {
      "text/plain": [
       "'Surat'"
      ]
     },
     "execution_count": 12,
     "metadata": {},
     "output_type": "execute_result"
    }
   ],
   "source": [
    "#Slicing\n",
    "list2[-1][-2]"
   ]
  },
  {
   "cell_type": "code",
   "execution_count": 11,
   "id": "81f8b80b",
   "metadata": {},
   "outputs": [
    {
     "data": {
      "text/plain": [
       "'Mumbai'"
      ]
     },
     "execution_count": 11,
     "metadata": {},
     "output_type": "execute_result"
    }
   ],
   "source": [
    "list2[4][2]"
   ]
  },
  {
   "cell_type": "code",
   "execution_count": 16,
   "id": "8d49642e",
   "metadata": {},
   "outputs": [],
   "source": [
    "#List Concatenation\n",
    "list1 = [1,2,3,4,'Rajasthan']\n",
    "list3 = list2 + list1"
   ]
  },
  {
   "cell_type": "code",
   "execution_count": 17,
   "id": "2cb07fde",
   "metadata": {},
   "outputs": [
    {
     "name": "stdout",
     "output_type": "stream",
     "text": [
      "['India', 'Delhi', 5, 60, ['Rajkot', 'Surat', 'Mumbai'], 1, 2, 3, 4, 'Rajasthan']\n"
     ]
    }
   ],
   "source": [
    "print(list3)"
   ]
  },
  {
   "cell_type": "code",
   "execution_count": 19,
   "id": "ce2c710e",
   "metadata": {},
   "outputs": [
    {
     "name": "stdout",
     "output_type": "stream",
     "text": [
      "10\n"
     ]
    }
   ],
   "source": [
    "#String  Concatenation\n",
    "a = 'hello'\n",
    "b = 'Raja'\n",
    "c = a + ' ' + b\n",
    "print(len(c))"
   ]
  },
  {
   "cell_type": "code",
   "execution_count": null,
   "id": "69bab534",
   "metadata": {},
   "outputs": [
    {
     "name": "stdout",
     "output_type": "stream",
     "text": [
      "[1, 2, 3, 4, 5, 6, 7]\n"
     ]
    }
   ],
   "source": [
    "#Adding the elements to an existing list\n",
    "list4 = [1,2,3,4]\n",
    "new_list = list4 + [5,6,7]\n",
    "print(new_list)"
   ]
  },
  {
   "cell_type": "code",
   "execution_count": 21,
   "id": "b2141a45",
   "metadata": {},
   "outputs": [
    {
     "name": "stdout",
     "output_type": "stream",
     "text": [
      "True\n"
     ]
    }
   ],
   "source": [
    "# Membership in list and tuple\n",
    "print(5 in new_list)"
   ]
  },
  {
   "cell_type": "markdown",
   "id": "aa7712d9",
   "metadata": {},
   "source": [
    "Mutablitiy"
   ]
  },
  {
   "cell_type": "code",
   "execution_count": 27,
   "id": "77b84d03",
   "metadata": {},
   "outputs": [],
   "source": [
    "list1 = ['Maths','English','Chemistry','Physics','Biology']\n"
   ]
  },
  {
   "cell_type": "code",
   "execution_count": 28,
   "id": "581c0bc2",
   "metadata": {},
   "outputs": [],
   "source": [
    "list1[4] = 'Computer Science'"
   ]
  },
  {
   "cell_type": "code",
   "execution_count": 29,
   "id": "f74b4886",
   "metadata": {},
   "outputs": [
    {
     "name": "stdout",
     "output_type": "stream",
     "text": [
      "['Maths', 'English', 'Chemistry', 'Physics', 'Computer Science']\n"
     ]
    }
   ],
   "source": [
    "print(list1)"
   ]
  },
  {
   "cell_type": "code",
   "execution_count": 26,
   "id": "8cc8dd83",
   "metadata": {},
   "outputs": [
    {
     "name": "stdout",
     "output_type": "stream",
     "text": [
      "[1, 2, 3, 4, 7, 8, 9, 10, 11, 13]\n"
     ]
    }
   ],
   "source": [
    "#extend() function --> to add multiple elements at once\n",
    "my_list1 = [1,2,3,4,7,8]\n",
    "my_list1.extend([9,10,11,13])\n",
    "print(my_list1)"
   ]
  },
  {
   "cell_type": "code",
   "execution_count": 31,
   "id": "0002d477",
   "metadata": {},
   "outputs": [
    {
     "name": "stdout",
     "output_type": "stream",
     "text": [
      "[1, 2, 3, 4, 7, 8, [9, 10]]\n"
     ]
    }
   ],
   "source": [
    "#Append() function --> to add single element at a time\n",
    "my_list1 = [1,2,3,4,7,8]\n",
    "my_list1.append([9,10])\n",
    "print(my_list1)"
   ]
  },
  {
   "cell_type": "code",
   "execution_count": 37,
   "id": "c1aff38f",
   "metadata": {},
   "outputs": [
    {
     "name": "stdout",
     "output_type": "stream",
     "text": [
      "[1, 2, 8]\n"
     ]
    }
   ],
   "source": [
    "#del command to delete an element from a list\n",
    "del my_list1[-1]\n",
    "print(my_list1)"
   ]
  },
  {
   "cell_type": "code",
   "execution_count": 38,
   "id": "442449e8",
   "metadata": {},
   "outputs": [
    {
     "data": {
      "text/plain": [
       "8"
      ]
     },
     "execution_count": 38,
     "metadata": {},
     "output_type": "execute_result"
    }
   ],
   "source": [
    "#pop() function to remove the last element from a list as the default\n",
    "my_list1.pop()"
   ]
  },
  {
   "cell_type": "code",
   "execution_count": 41,
   "id": "35221cf1",
   "metadata": {},
   "outputs": [
    {
     "name": "stdout",
     "output_type": "stream",
     "text": [
      "[1, 2, 3, 4, 8, 9, 10, 11, 13]\n"
     ]
    }
   ],
   "source": [
    "# Remove method to remove a specific element\n",
    "my_list1 = [1,2,3,4,7,8]\n",
    "my_list1.extend([9,10,11,13])\n",
    "my_list1.remove(7)\n",
    "print(my_list1)"
   ]
  },
  {
   "cell_type": "code",
   "execution_count": 44,
   "id": "c1cd5f28",
   "metadata": {},
   "outputs": [
    {
     "name": "stdout",
     "output_type": "stream",
     "text": [
      "[13, 11, 10, 9, 8, 4, 3, 2, 1]\n"
     ]
    }
   ],
   "source": [
    "#Sorting a list\n",
    "my_list1.sort(reverse=True)\n",
    "print(my_list1)"
   ]
  },
  {
   "cell_type": "markdown",
   "id": "65dbe36a",
   "metadata": {},
   "source": [
    "Difference between sort and sorted"
   ]
  },
  {
   "cell_type": "markdown",
   "id": "56e789cd",
   "metadata": {},
   "source": [
    "list.sort()\n",
    "\n",
    "Method of list objects\n",
    "\n",
    "Sorts the list in place (modifies the original list)\n",
    "\n",
    "Returns None"
   ]
  },
  {
   "cell_type": "code",
   "execution_count": 46,
   "id": "287b95a8",
   "metadata": {},
   "outputs": [
    {
     "name": "stdout",
     "output_type": "stream",
     "text": [
      "['Apple', 'Banana', 'Mango', 'Orange']\n",
      "None\n"
     ]
    }
   ],
   "source": [
    "A = ['Orange','Apple','Banana','Mango']\n",
    "B = A.sort()\n",
    "print(A)\n",
    "print(B)"
   ]
  },
  {
   "cell_type": "markdown",
   "id": "fb403a55",
   "metadata": {},
   "source": [
    "sorted()\n",
    "\n",
    "Built-in function (not limited to lists)\n",
    "\n",
    "Creates and returns a new sorted list\n",
    "\n",
    "Works on any iterable (list, tuple, set, string, etc.)\n",
    "\n",
    "Original data remains unchanged"
   ]
  },
  {
   "cell_type": "code",
   "execution_count": 47,
   "id": "3b324e79",
   "metadata": {},
   "outputs": [
    {
     "name": "stdout",
     "output_type": "stream",
     "text": [
      "['Orange', 'Apple', 'Banana', 'Mango']\n",
      "['Apple', 'Banana', 'Mango', 'Orange']\n"
     ]
    }
   ],
   "source": [
    "A = ['Orange','Apple','Banana','Mango']\n",
    "B = sorted(A)\n",
    "print(A)\n",
    "print(B)"
   ]
  },
  {
   "cell_type": "markdown",
   "id": "c2f24659",
   "metadata": {},
   "source": [
    "Shallow Copy"
   ]
  },
  {
   "cell_type": "code",
   "execution_count": 48,
   "id": "f6a3bf24",
   "metadata": {},
   "outputs": [
    {
     "name": "stdout",
     "output_type": "stream",
     "text": [
      "['Orange', 'Apple', 'Banana', 'Mango']\n",
      "['Orange', 'Apple', 'Banana', 'Mango']\n"
     ]
    }
   ],
   "source": [
    "A = ['Orange','Apple','Banana','Mango']\n",
    "B = A\n",
    "print(B)\n",
    "print(A)"
   ]
  },
  {
   "cell_type": "code",
   "execution_count": 49,
   "id": "89c5ec38",
   "metadata": {},
   "outputs": [
    {
     "data": {
      "text/plain": [
       "'Mango'"
      ]
     },
     "execution_count": 49,
     "metadata": {},
     "output_type": "execute_result"
    }
   ],
   "source": [
    "A.pop()"
   ]
  },
  {
   "cell_type": "code",
   "execution_count": 50,
   "id": "eaa985ea",
   "metadata": {},
   "outputs": [
    {
     "name": "stdout",
     "output_type": "stream",
     "text": [
      "['Orange', 'Apple', 'Banana']\n"
     ]
    }
   ],
   "source": [
    "print(A)"
   ]
  },
  {
   "cell_type": "code",
   "execution_count": 51,
   "id": "4d32cde6",
   "metadata": {},
   "outputs": [
    {
     "data": {
      "text/plain": [
       "['Orange', 'Apple', 'Banana']"
      ]
     },
     "execution_count": 51,
     "metadata": {},
     "output_type": "execute_result"
    }
   ],
   "source": [
    "B"
   ]
  },
  {
   "cell_type": "code",
   "execution_count": 52,
   "id": "c0997ba8",
   "metadata": {},
   "outputs": [
    {
     "name": "stdout",
     "output_type": "stream",
     "text": [
      "['Orange', 'Apple', 'Banana']\n"
     ]
    }
   ],
   "source": [
    "A = ['Orange', 'Apple', 'Banana', 'Mango']\n",
    "B = A[0:3]\n",
    "print(B)"
   ]
  },
  {
   "cell_type": "code",
   "execution_count": 56,
   "id": "cdd2c7f8",
   "metadata": {},
   "outputs": [],
   "source": [
    "input_str = 'Kumar_Ravi_003'"
   ]
  },
  {
   "cell_type": "code",
   "execution_count": 61,
   "id": "3e92c345",
   "metadata": {},
   "outputs": [
    {
     "name": "stdout",
     "output_type": "stream",
     "text": [
      "Ravi\n",
      "Kumar\n",
      "003\n"
     ]
    }
   ],
   "source": [
    "print(input_str[6:10])\n",
    "print(input_str[0:5])\n",
    "print(input_str[11:15])"
   ]
  },
  {
   "cell_type": "code",
   "execution_count": 62,
   "id": "877a105d",
   "metadata": {},
   "outputs": [],
   "source": [
    "input_str = 'Kumar_Ravi_003'\n",
    "list1 = input_str.split('_')"
   ]
  },
  {
   "cell_type": "code",
   "execution_count": 63,
   "id": "43272c4c",
   "metadata": {},
   "outputs": [
    {
     "name": "stdout",
     "output_type": "stream",
     "text": [
      "['Kumar', 'Ravi', '003']\n"
     ]
    }
   ],
   "source": [
    "print(list1)"
   ]
  },
  {
   "cell_type": "code",
   "execution_count": 64,
   "id": "82e3b1a6",
   "metadata": {},
   "outputs": [],
   "source": [
    "list1[0] , list1[1] = list1[1], list1[0]"
   ]
  },
  {
   "cell_type": "code",
   "execution_count": 65,
   "id": "699c0bd7",
   "metadata": {},
   "outputs": [
    {
     "name": "stdout",
     "output_type": "stream",
     "text": [
      "['Ravi', 'Kumar', '003']\n"
     ]
    }
   ],
   "source": [
    "print(list1)"
   ]
  }
 ],
 "metadata": {
  "kernelspec": {
   "display_name": "base",
   "language": "python",
   "name": "python3"
  },
  "language_info": {
   "codemirror_mode": {
    "name": "ipython",
    "version": 3
   },
   "file_extension": ".py",
   "mimetype": "text/x-python",
   "name": "python",
   "nbconvert_exporter": "python",
   "pygments_lexer": "ipython3",
   "version": "3.13.5"
  }
 },
 "nbformat": 4,
 "nbformat_minor": 5
}
