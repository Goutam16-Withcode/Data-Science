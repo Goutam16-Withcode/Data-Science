{
 "cells": [
  {
   "cell_type": "code",
   "execution_count": 8,
   "id": "90e99462",
   "metadata": {},
   "outputs": [],
   "source": [
    "# Reading a File\n",
    "file = open('text.txt','r')"
   ]
  },
  {
   "cell_type": "code",
   "execution_count": 9,
   "id": "c17848ba",
   "metadata": {},
   "outputs": [
    {
     "name": "stdout",
     "output_type": "stream",
     "text": [
      "Lorem ipsum dolor sit amet, consectetur adipiscing elit. Sed do eiusmod tempor incididunt ut labore et dolore magna aliqua. Ut enim ad minim veniam, quis nostrud exercitation ullamco laboris nisi ut aliquip ex ea commodo consequat.\n",
      "\n",
      "Duis aute irure dolor in reprehenderit in voluptate velit esse cillum dolore eu fugiat nulla pariatur. Excepteur sint occaecat cupidatat non proident, sunt in culpa qui officia deserunt mollit anim id est laborum.\n",
      "\n",
      "The quick brown fox jumps over the lazy dog. Pack my box with five dozen liquor jugs. How vexingly quick daft zebras jump!\n",
      "\n",
      "Sample random text for testing purposes.\n",
      "\n",
      "Multiple lines of content.\n",
      "\n",
      "Different paragraphs and sections.\n"
     ]
    }
   ],
   "source": [
    "for line in file:\n",
    "    print(line)"
   ]
  },
  {
   "cell_type": "code",
   "execution_count": 10,
   "id": "fca1ab40",
   "metadata": {},
   "outputs": [
    {
     "name": "stdout",
     "output_type": "stream",
     "text": [
      "Lorem ipsum dolor sit amet, consectetur adipiscing elit. Sed do eiusmod tempor incididunt ut labore et dolore magna aliqua. Ut enim ad minim veniam, quis nostrud exercitation ullamco laboris nisi ut aliquip ex ea commodo consequat.\n",
      "Duis aute irure dolor in reprehenderit in voluptate velit esse cillum dolore eu fugiat nulla pariatur. Excepteur sint occaecat cupidatat non proident, sunt in culpa qui officia deserunt mollit anim id est laborum.\n",
      "The quick brown fox jumps over the lazy dog. Pack my box with five dozen liquor jugs. How vexingly quick daft zebras jump!\n",
      "Sample random text for testing purposes.\n",
      "Multiple lines of content.\n",
      "Different paragraphs and sections.\n"
     ]
    }
   ],
   "source": [
    "# Another way to reading a file\n",
    "file  =  open('text.txt','r')\n",
    "print(file.read())"
   ]
  },
  {
   "cell_type": "code",
   "execution_count": 11,
   "id": "2c1e104c",
   "metadata": {},
   "outputs": [
    {
     "name": "stdout",
     "output_type": "stream",
     "text": [
      "Lorem ipsum dolor sit amet, consectetur adipiscing elit. Sed do eiusmod tempor incididunt ut labore et dolore magna aliqua. Ut enim ad minim veniam, quis nostrud exercitation ullamco laboris nisi ut a\n"
     ]
    }
   ],
   "source": [
    "file  =  open('text.txt','r')\n",
    "print(file.read(200))"
   ]
  },
  {
   "cell_type": "code",
   "execution_count": 12,
   "id": "38a81fd3",
   "metadata": {},
   "outputs": [
    {
     "name": "stdout",
     "output_type": "stream",
     "text": [
      "Lorem ipsum dolor sit amet, consectetur adipiscing elit. Sed do eiusmod tempor incididunt ut labore et dolore magna aliqua. Ut enim ad minim veniam, quis nostrud exercitation ullamco laboris nisi ut aliquip ex ea commodo consequat.\n",
      "\n"
     ]
    }
   ],
   "source": [
    "file  =  open('text.txt','r')\n",
    "print(file.readline()) # Reading the first line of the file"
   ]
  },
  {
   "cell_type": "code",
   "execution_count": 14,
   "id": "30602c46",
   "metadata": {},
   "outputs": [],
   "source": [
    "# Writing to a File\n",
    "file1 = open('text.txt','w')"
   ]
  },
  {
   "cell_type": "code",
   "execution_count": 16,
   "id": "01745292",
   "metadata": {},
   "outputs": [
    {
     "data": {
      "text/plain": [
       "80"
      ]
     },
     "execution_count": 16,
     "metadata": {},
     "output_type": "execute_result"
    }
   ],
   "source": [
    "file1.write(\"This is the write operation this is the new line which is added inside the file\\n\")"
   ]
  },
  {
   "cell_type": "code",
   "execution_count": 18,
   "id": "cfc830c9",
   "metadata": {},
   "outputs": [],
   "source": [
    "file1 = open('text.txt','w')\n",
    "file1.write(\"This is the write operation this is the new line which is added inside the file\\n\")\n",
    "file1.close()"
   ]
  },
  {
   "cell_type": "code",
   "execution_count": 21,
   "id": "e20ffd51",
   "metadata": {},
   "outputs": [
    {
     "name": "stdout",
     "output_type": "stream",
     "text": [
      "This is the write operation this is the new line which is added inside the file\n",
      "\n"
     ]
    }
   ],
   "source": [
    "file1 = open('text.txt','r')\n",
    "print(file1.read())"
   ]
  },
  {
   "cell_type": "code",
   "execution_count": null,
   "id": "1445a650",
   "metadata": {},
   "outputs": [],
   "source": [
    "# Append operation\n",
    "# \\n operation is used to add a new line in the file\n",
    "with open('text.txt','a') as file1: \n",
    "    file1.write(\"This is the append operation\\n\")"
   ]
  },
  {
   "cell_type": "code",
   "execution_count": 27,
   "id": "6a72e480",
   "metadata": {},
   "outputs": [
    {
     "name": "stdout",
     "output_type": "stream",
     "text": [
      "This is the write operation this is the new line which is added inside the file\n",
      "\n",
      "This is the append operation\n",
      "\n",
      "This is the append operation\n",
      "\n"
     ]
    }
   ],
   "source": [
    "file1 = open('text.txt','r')\n",
    "for line in file1:\n",
    "    print(line)"
   ]
  },
  {
   "cell_type": "code",
   "execution_count": 28,
   "id": "1d24c871",
   "metadata": {},
   "outputs": [],
   "source": [
    "# a+ operation\n",
    "with open('text.txt','a+') as file1:\n",
    "    file1.write(\"This is the append operation 2\\n\")"
   ]
  },
  {
   "cell_type": "code",
   "execution_count": 29,
   "id": "19d32041",
   "metadata": {},
   "outputs": [
    {
     "name": "stdout",
     "output_type": "stream",
     "text": [
      "This is the write operation this is the new line which is added inside the file\n",
      "\n",
      "This is the append operation\n",
      "\n",
      "This is the append operation\n",
      "\n",
      "This is the append operation 2\n",
      "\n"
     ]
    }
   ],
   "source": [
    "file1 = open('text.txt','r')\n",
    "for line in file1:\n",
    "    print(line)"
   ]
  }
 ],
 "metadata": {
  "kernelspec": {
   "display_name": "base",
   "language": "python",
   "name": "python3"
  },
  "language_info": {
   "codemirror_mode": {
    "name": "ipython",
    "version": 3
   },
   "file_extension": ".py",
   "mimetype": "text/x-python",
   "name": "python",
   "nbconvert_exporter": "python",
   "pygments_lexer": "ipython3",
   "version": "3.13.5"
  }
 },
 "nbformat": 4,
 "nbformat_minor": 5
}
