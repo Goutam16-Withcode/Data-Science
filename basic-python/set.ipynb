{
 "cells": [
  {
   "cell_type": "markdown",
   "id": "77afb8b7",
   "metadata": {},
   "source": [
    "# Sets\n",
    "1. Sets are a type of collection like tuple , list storing the mixed data.\n",
    "2. sets are enclosed inside the curly brackets and elements are separated by the comma.\n",
    "3. sets are unorderd.\n",
    "4. sets doesn't allow duplicates."
   ]
  },
  {
   "cell_type": "code",
   "execution_count": 1,
   "id": "60df4906",
   "metadata": {},
   "outputs": [],
   "source": [
    "colors = {\"red\", \"green\", \"blue\"}"
   ]
  },
  {
   "cell_type": "code",
   "execution_count": 2,
   "id": "ed1308bd",
   "metadata": {},
   "outputs": [
    {
     "data": {
      "text/plain": [
       "set"
      ]
     },
     "execution_count": 2,
     "metadata": {},
     "output_type": "execute_result"
    }
   ],
   "source": [
    "type(colors)"
   ]
  },
  {
   "cell_type": "code",
   "execution_count": null,
   "id": "ad1a3148",
   "metadata": {},
   "outputs": [
    {
     "data": {
      "text/plain": [
       "True"
      ]
     },
     "execution_count": 3,
     "metadata": {},
     "output_type": "execute_result"
    }
   ],
   "source": [
    "\"red\" in colors"
   ]
  },
  {
   "cell_type": "code",
   "execution_count": 6,
   "id": "a28bb55b",
   "metadata": {},
   "outputs": [],
   "source": [
    "# Type Casting\n",
    "list1 = [1,2,3,4,5,6,3]\n",
    "set1 = set(list1)"
   ]
  },
  {
   "cell_type": "code",
   "execution_count": 7,
   "id": "56ce056e",
   "metadata": {},
   "outputs": [
    {
     "data": {
      "text/plain": [
       "{1, 2, 3, 4, 5, 6}"
      ]
     },
     "execution_count": 7,
     "metadata": {},
     "output_type": "execute_result"
    }
   ],
   "source": [
    "set1"
   ]
  },
  {
   "cell_type": "code",
   "execution_count": 12,
   "id": "56e9e178",
   "metadata": {},
   "outputs": [],
   "source": [
    "set2 = {4,5,6,7,8,9}\n",
    "tup = tuple(set2)"
   ]
  },
  {
   "cell_type": "code",
   "execution_count": 13,
   "id": "b74d8beb",
   "metadata": {},
   "outputs": [
    {
     "data": {
      "text/plain": [
       "(4, 5, 6, 7, 8, 9)"
      ]
     },
     "execution_count": 13,
     "metadata": {},
     "output_type": "execute_result"
    }
   ],
   "source": [
    "tup"
   ]
  },
  {
   "cell_type": "code",
   "execution_count": null,
   "id": "baa71152",
   "metadata": {},
   "outputs": [],
   "source": [
    "set1.add(6) # adding an element"
   ]
  },
  {
   "cell_type": "code",
   "execution_count": 15,
   "id": "9365132c",
   "metadata": {},
   "outputs": [
    {
     "data": {
      "text/plain": [
       "{1, 2, 3, 4, 5, 6}"
      ]
     },
     "execution_count": 15,
     "metadata": {},
     "output_type": "execute_result"
    }
   ],
   "source": [
    "set1"
   ]
  },
  {
   "cell_type": "code",
   "execution_count": 16,
   "id": "9f2e3c2c",
   "metadata": {},
   "outputs": [],
   "source": [
    "# Set Operations\n",
    "A = {0,2,4,6,8}\n",
    "B = {1,2,3,4,5}"
   ]
  },
  {
   "cell_type": "code",
   "execution_count": null,
   "id": "306299d4",
   "metadata": {},
   "outputs": [
    {
     "data": {
      "text/plain": [
       "{0, 1, 2, 3, 4, 5, 6, 8}"
      ]
     },
     "execution_count": 17,
     "metadata": {},
     "output_type": "execute_result"
    }
   ],
   "source": [
    "A.union(B) # or A | B"
   ]
  },
  {
   "cell_type": "code",
   "execution_count": null,
   "id": "d2763df5",
   "metadata": {},
   "outputs": [
    {
     "data": {
      "text/plain": [
       "{2, 4}"
      ]
     },
     "execution_count": 18,
     "metadata": {},
     "output_type": "execute_result"
    }
   ],
   "source": [
    "A.intersection(B) # or A & B"
   ]
  },
  {
   "cell_type": "code",
   "execution_count": 19,
   "id": "ea411f4a",
   "metadata": {},
   "outputs": [
    {
     "data": {
      "text/plain": [
       "{0, 6, 8}"
      ]
     },
     "execution_count": 19,
     "metadata": {},
     "output_type": "execute_result"
    }
   ],
   "source": [
    "A.difference(B) # or A - B"
   ]
  },
  {
   "cell_type": "code",
   "execution_count": 20,
   "id": "c2ca0752",
   "metadata": {},
   "outputs": [
    {
     "data": {
      "text/plain": [
       "False"
      ]
     },
     "execution_count": 20,
     "metadata": {},
     "output_type": "execute_result"
    }
   ],
   "source": [
    "A.isdisjoint(B) # True if no common elements"
   ]
  },
  {
   "cell_type": "code",
   "execution_count": 21,
   "id": "53460ebc",
   "metadata": {},
   "outputs": [
    {
     "data": {
      "text/plain": [
       "{0, 1, 3, 5, 6, 8}"
      ]
     },
     "execution_count": 21,
     "metadata": {},
     "output_type": "execute_result"
    }
   ],
   "source": [
    "A.symmetric_difference(B) # or A ^ B"
   ]
  }
 ],
 "metadata": {
  "kernelspec": {
   "display_name": "base",
   "language": "python",
   "name": "python3"
  },
  "language_info": {
   "codemirror_mode": {
    "name": "ipython",
    "version": 3
   },
   "file_extension": ".py",
   "mimetype": "text/x-python",
   "name": "python",
   "nbconvert_exporter": "python",
   "pygments_lexer": "ipython3",
   "version": "3.13.5"
  }
 },
 "nbformat": 4,
 "nbformat_minor": 5
}
