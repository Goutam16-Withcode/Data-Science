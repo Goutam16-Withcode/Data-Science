{
 "cells": [
  {
   "cell_type": "markdown",
   "id": "f2fbbad3",
   "metadata": {},
   "source": [
    "# Functions\n",
    "1. Named sequence of the statement that perform some operation.\n",
    "2. User-Defined Functions --> unique block of the code that is only executed when called to perform a specific task.\n",
    "3. Lambda Function --> small anonymous function to make a developers life esier and can take any number of arguments but can only have one expression.It is used inside the coding for the reducing the time and space complexcity of the code."
   ]
  },
  {
   "cell_type": "code",
   "execution_count": 1,
   "id": "8e2537af",
   "metadata": {},
   "outputs": [
    {
     "name": "stdout",
     "output_type": "stream",
     "text": [
      "789 is Odd\n"
     ]
    }
   ],
   "source": [
    "# Even and Odd Number Function\n",
    "def even_odd(num):\n",
    "    if num % 2 == 0:\n",
    "        print(f\"{num} is Even\")\n",
    "    else:\n",
    "        print(f\"{num} is Odd\")\n",
    "\n",
    "# Test the function\n",
    "even_odd(789)"
   ]
  },
  {
   "cell_type": "code",
   "execution_count": 5,
   "id": "7a96a3b9",
   "metadata": {},
   "outputs": [
    {
     "data": {
      "text/plain": [
       "24"
      ]
     },
     "execution_count": 5,
     "metadata": {},
     "output_type": "execute_result"
    }
   ],
   "source": [
    "# Factorial Function\n",
    "def fact(n):\n",
    "    # handle invalid inputs\n",
    "    if n < 0:\n",
    "        raise ValueError(\"factorial() not defined for negative values\")\n",
    "    # base case: 0! = 1 and 1! = 1\n",
    "    if n == 0 or n == 1:\n",
    "        return 1\n",
    "    else:\n",
    "        return n * fact(n-1)\n",
    "\n",
    "fact(4)"
   ]
  },
  {
   "cell_type": "code",
   "execution_count": 7,
   "id": "e7a88218",
   "metadata": {},
   "outputs": [
    {
     "data": {
      "text/plain": [
       "55"
      ]
     },
     "execution_count": 7,
     "metadata": {},
     "output_type": "execute_result"
    }
   ],
   "source": [
    "# Sum of all natural number till number provided\n",
    "def sumN(num):\n",
    "        if num < 0:\n",
    "         raise ValueError(\"sumN() not defined for negative values\")\n",
    "        if num == 0:\n",
    "         return 0\n",
    "        else:\n",
    "         return num + sumN(num-1)\n",
    "    \n",
    "# Test the function\n",
    "sumN(10)"
   ]
  },
  {
   "cell_type": "code",
   "execution_count": 8,
   "id": "f4fc6ff1",
   "metadata": {},
   "outputs": [
    {
     "name": "stdout",
     "output_type": "stream",
     "text": [
      "15\n"
     ]
    }
   ],
   "source": [
    "# Lambda Function -> that adds 10 to the number passed as an argument and print the result\n",
    "x = lambda a: a + 10\n",
    "print(x(5))"
   ]
  },
  {
   "cell_type": "code",
   "execution_count": 9,
   "id": "340951b6",
   "metadata": {},
   "outputs": [],
   "source": [
    "# Check for the even or odd number\n",
    "Y = lambda a : 'Even' if a % 2 == 0  else 'Odd'"
   ]
  },
  {
   "cell_type": "code",
   "execution_count": 10,
   "id": "bb569841",
   "metadata": {},
   "outputs": [
    {
     "name": "stdout",
     "output_type": "stream",
     "text": [
      "Even\n"
     ]
    }
   ],
   "source": [
    "print(Y(756))"
   ]
  },
  {
   "cell_type": "code",
   "execution_count": 12,
   "id": "aff911b1",
   "metadata": {},
   "outputs": [
    {
     "name": "stdout",
     "output_type": "stream",
     "text": [
      "12\n"
     ]
    }
   ],
   "source": [
    "# Adding two numbers using lambda function\n",
    "add = lambda a , b : a + b\n",
    "print(add(5,7))"
   ]
  }
 ],
 "metadata": {
  "kernelspec": {
   "display_name": "base",
   "language": "python",
   "name": "python3"
  },
  "language_info": {
   "codemirror_mode": {
    "name": "ipython",
    "version": 3
   },
   "file_extension": ".py",
   "mimetype": "text/x-python",
   "name": "python",
   "nbconvert_exporter": "python",
   "pygments_lexer": "ipython3",
   "version": "3.13.5"
  }
 },
 "nbformat": 4,
 "nbformat_minor": 5
}
