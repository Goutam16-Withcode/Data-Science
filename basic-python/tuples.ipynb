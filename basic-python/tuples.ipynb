{
 "cells": [
  {
   "cell_type": "markdown",
   "id": "4727e2e0",
   "metadata": {},
   "source": [
    "# Tuples\n",
    "1.Tuples are the oredered sequence of the data types.\n",
    "2.Tuples are written in comma separated elements within parenthesis"
   ]
  },
  {
   "cell_type": "code",
   "execution_count": 2,
   "id": "c4922344",
   "metadata": {},
   "outputs": [
    {
     "data": {
      "text/plain": [
       "tuple"
      ]
     },
     "execution_count": 2,
     "metadata": {},
     "output_type": "execute_result"
    }
   ],
   "source": [
    "t = (1,2,3,4)\n",
    "type(t)"
   ]
  },
  {
   "cell_type": "code",
   "execution_count": 3,
   "id": "069d0a1a",
   "metadata": {},
   "outputs": [
    {
     "data": {
      "text/plain": [
       "4"
      ]
     },
     "execution_count": 3,
     "metadata": {},
     "output_type": "execute_result"
    }
   ],
   "source": [
    "len(t)"
   ]
  },
  {
   "cell_type": "code",
   "execution_count": 6,
   "id": "6b0efd1c",
   "metadata": {},
   "outputs": [
    {
     "data": {
      "text/plain": [
       "[3, 4, 2]"
      ]
     },
     "execution_count": 6,
     "metadata": {},
     "output_type": "execute_result"
    }
   ],
   "source": [
    "#Nested Tuple\n",
    "t1 = (1,2,3,4,5,(6,7,8))\n",
    "t2=(1,5,6,7,8,[3,4,2])\n",
    "t2[5]"
   ]
  },
  {
   "cell_type": "markdown",
   "id": "fe73342f",
   "metadata": {},
   "source": [
    "Definning ways of the tuples"
   ]
  },
  {
   "cell_type": "code",
   "execution_count": 7,
   "id": "ff94d9be",
   "metadata": {},
   "outputs": [
    {
     "name": "stdout",
     "output_type": "stream",
     "text": [
      "(1.2, 3, 5, 7, 0)\n"
     ]
    }
   ],
   "source": [
    "t1 = 1.2 , 3, 5 ,7 , 0\n",
    "print(t1)"
   ]
  },
  {
   "cell_type": "code",
   "execution_count": null,
   "id": "44f1de68",
   "metadata": {},
   "outputs": [
    {
     "data": {
      "text/plain": [
       "tuple"
      ]
     },
     "execution_count": 8,
     "metadata": {},
     "output_type": "execute_result"
    }
   ],
   "source": [
    "#Single element tuple\n",
    "t1 = 1.2,\n",
    "type(t1)"
   ]
  },
  {
   "cell_type": "code",
   "execution_count": 9,
   "id": "ec93ae63",
   "metadata": {},
   "outputs": [
    {
     "data": {
      "text/plain": [
       "tuple"
      ]
     },
     "execution_count": 9,
     "metadata": {},
     "output_type": "execute_result"
    }
   ],
   "source": [
    "t2 = (1.2,)\n",
    "type(t2)"
   ]
  },
  {
   "cell_type": "code",
   "execution_count": 10,
   "id": "dc9b9e69",
   "metadata": {},
   "outputs": [],
   "source": [
    "#Indexing and Slicing\n",
    "t = (\"Mumbai\",\"Delhi\",\"Kolkata\",\"Chennai\",105,103,200)"
   ]
  },
  {
   "cell_type": "code",
   "execution_count": 11,
   "id": "7ff8e16f",
   "metadata": {},
   "outputs": [
    {
     "data": {
      "text/plain": [
       "7"
      ]
     },
     "execution_count": 11,
     "metadata": {},
     "output_type": "execute_result"
    }
   ],
   "source": [
    "len(t)"
   ]
  },
  {
   "cell_type": "code",
   "execution_count": null,
   "id": "58f09ea7",
   "metadata": {},
   "outputs": [
    {
     "data": {
      "text/plain": [
       "('Kolkata', 'Chennai', 105, 103, 200)"
      ]
     },
     "execution_count": 15,
     "metadata": {},
     "output_type": "execute_result"
    }
   ],
   "source": [
    "t[2:] # if we give the [2 : 4] it will give the 2nd and 3rd index value only and giving the [:-1] it will give all the values except the last index value."
   ]
  },
  {
   "cell_type": "code",
   "execution_count": 16,
   "id": "6e1ccb2d",
   "metadata": {},
   "outputs": [
    {
     "data": {
      "text/plain": [
       "'am learning Python'"
      ]
     },
     "execution_count": 16,
     "metadata": {},
     "output_type": "execute_result"
    }
   ],
   "source": [
    "str1 = \"Hii I am learning Python\"\n",
    "str1[6:]"
   ]
  },
  {
   "cell_type": "code",
   "execution_count": 17,
   "id": "57ffa76c",
   "metadata": {},
   "outputs": [],
   "source": [
    "#Concatenation\n",
    "tup1 = (1,2,3,4,5)\n",
    "tup2 = (6,7,8,9,10)\n",
    "tup3 = tup1 + tup2"
   ]
  },
  {
   "cell_type": "code",
   "execution_count": 18,
   "id": "cf57608f",
   "metadata": {},
   "outputs": [
    {
     "data": {
      "text/plain": [
       "(1, 2, 3, 4, 5, 6, 7, 8, 9, 10)"
      ]
     },
     "execution_count": 18,
     "metadata": {},
     "output_type": "execute_result"
    }
   ],
   "source": [
    "tup3"
   ]
  },
  {
   "cell_type": "code",
   "execution_count": 20,
   "id": "8bf25ee2",
   "metadata": {},
   "outputs": [
    {
     "data": {
      "text/plain": [
       "15"
      ]
     },
     "execution_count": 20,
     "metadata": {},
     "output_type": "execute_result"
    }
   ],
   "source": [
    "#min , max , sum\n",
    "tup1 = (1,2,3,4,5)\n",
    "\n",
    "sum(tup1)"
   ]
  },
  {
   "cell_type": "code",
   "execution_count": 21,
   "id": "4d0e2863",
   "metadata": {},
   "outputs": [
    {
     "data": {
      "text/plain": [
       "5"
      ]
     },
     "execution_count": 21,
     "metadata": {},
     "output_type": "execute_result"
    }
   ],
   "source": [
    "max(tup1)"
   ]
  },
  {
   "cell_type": "code",
   "execution_count": 22,
   "id": "d79f2dbd",
   "metadata": {},
   "outputs": [
    {
     "data": {
      "text/plain": [
       "1"
      ]
     },
     "execution_count": 22,
     "metadata": {},
     "output_type": "execute_result"
    }
   ],
   "source": [
    "min(tup1)"
   ]
  },
  {
   "cell_type": "code",
   "execution_count": 23,
   "id": "4e99bdb3",
   "metadata": {},
   "outputs": [],
   "source": [
    "# Immutability\n",
    "t = (\"Hello!\",\"Welcome\",5,10,\"world\",\"of\",\"Analytics!!\")"
   ]
  },
  {
   "cell_type": "code",
   "execution_count": null,
   "id": "7c97094d",
   "metadata": {},
   "outputs": [
    {
     "ename": "TypeError",
     "evalue": "'tuple' object does not support item assignment",
     "output_type": "error",
     "traceback": [
      "\u001b[1;31m---------------------------------------------------------------------------\u001b[0m",
      "\u001b[1;31mTypeError\u001b[0m                                 Traceback (most recent call last)",
      "Cell \u001b[1;32mIn[24], line 1\u001b[0m\n\u001b[1;32m----> 1\u001b[0m t[\u001b[38;5;241m0\u001b[39m] \u001b[38;5;241m=\u001b[39m \u001b[38;5;124m\"\u001b[39m\u001b[38;5;124mHii\u001b[39m\u001b[38;5;124m\"\u001b[39m\n",
      "\u001b[1;31mTypeError\u001b[0m: 'tuple' object does not support item assignment"
     ]
    }
   ],
   "source": [
    "t[0] = \"Hii\" # This will give an error as tuples are immutable and we cannot change the values of tuples."
   ]
  },
  {
   "cell_type": "code",
   "execution_count": 25,
   "id": "1c6d9a7b",
   "metadata": {},
   "outputs": [],
   "source": [
    "# How to update the 2nd and 3rd index value of the tuple\n",
    "new_tup = t[:2] + (\"to\", \"the\") + t[4:]"
   ]
  },
  {
   "cell_type": "code",
   "execution_count": 26,
   "id": "a6b01163",
   "metadata": {},
   "outputs": [
    {
     "data": {
      "text/plain": [
       "('Hello!', 'Welcome', 'to', 'the', 'world', 'of', 'Analytics!!')"
      ]
     },
     "execution_count": 26,
     "metadata": {},
     "output_type": "execute_result"
    }
   ],
   "source": [
    "new_tup"
   ]
  },
  {
   "cell_type": "code",
   "execution_count": 30,
   "id": "3212e4a2",
   "metadata": {},
   "outputs": [
    {
     "data": {
      "text/plain": [
       "'v'"
      ]
     },
     "execution_count": 30,
     "metadata": {},
     "output_type": "execute_result"
    }
   ],
   "source": [
    "Tup = (\"Discover\",1,562,3,4)\n",
    "Tup[0][5]"
   ]
  },
  {
   "cell_type": "code",
   "execution_count": 36,
   "id": "2952e71e",
   "metadata": {},
   "outputs": [
    {
     "data": {
      "text/plain": [
       "list"
      ]
     },
     "execution_count": 36,
     "metadata": {},
     "output_type": "execute_result"
    }
   ],
   "source": [
    "# Sorting in a tuple\n",
    "t = (5,3,8,1,2,7,4,6)\n",
    "\n",
    "type(sorted(t))"
   ]
  },
  {
   "cell_type": "code",
   "execution_count": 31,
   "id": "826c397e",
   "metadata": {},
   "outputs": [],
   "source": [
    "# TypeCasting\n",
    "list1 = [1,2,3,4,5]\n",
    "tuple1 = tuple(list1)"
   ]
  },
  {
   "cell_type": "code",
   "execution_count": 32,
   "id": "6aa4e68f",
   "metadata": {},
   "outputs": [
    {
     "data": {
      "text/plain": [
       "(1, 2, 3, 4, 5)"
      ]
     },
     "execution_count": 32,
     "metadata": {},
     "output_type": "execute_result"
    }
   ],
   "source": [
    "tuple1"
   ]
  },
  {
   "cell_type": "code",
   "execution_count": 33,
   "id": "8de15063",
   "metadata": {},
   "outputs": [],
   "source": [
    "tuple1 = 5,6,7,8,9\n",
    "list = list(tuple1)"
   ]
  },
  {
   "cell_type": "code",
   "execution_count": 34,
   "id": "b4de5afd",
   "metadata": {},
   "outputs": [
    {
     "data": {
      "text/plain": [
       "[5, 6, 7, 8, 9]"
      ]
     },
     "execution_count": 34,
     "metadata": {},
     "output_type": "execute_result"
    }
   ],
   "source": [
    "list"
   ]
  }
 ],
 "metadata": {
  "kernelspec": {
   "display_name": "base",
   "language": "python",
   "name": "python3"
  },
  "language_info": {
   "codemirror_mode": {
    "name": "ipython",
    "version": 3
   },
   "file_extension": ".py",
   "mimetype": "text/x-python",
   "name": "python",
   "nbconvert_exporter": "python",
   "pygments_lexer": "ipython3",
   "version": "3.13.5"
  }
 },
 "nbformat": 4,
 "nbformat_minor": 5
}
