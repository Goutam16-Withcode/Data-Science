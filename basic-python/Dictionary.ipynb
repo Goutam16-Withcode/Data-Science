{
 "cells": [
  {
   "cell_type": "markdown",
   "id": "79bbc4cf",
   "metadata": {},
   "source": [
    "# Dictionary\n",
    "1. It Stores elements as keys and value pairs\n",
    "2. The key is like an index , it always unique and immutable\n",
    "3. The values are the objects that contains the information.\n",
    "4. Values are accessed by their keys.\n",
    "5. Each keys are followed by a value separated by a colon.\n",
    "6. The values can be immutable , mutable and duplicate.\n",
    "7. Each key and value pair is separated by the comma eclosed with curly brackets "
   ]
  },
  {
   "cell_type": "code",
   "execution_count": 2,
   "id": "6d455aac",
   "metadata": {},
   "outputs": [
    {
     "data": {
      "text/plain": [
       "22"
      ]
     },
     "execution_count": 2,
     "metadata": {},
     "output_type": "execute_result"
    }
   ],
   "source": [
    "dict = {\"Name\" : \"Goutam\" , \"Age\" : 22}\n",
    "dict['Age'] "
   ]
  },
  {
   "cell_type": "code",
   "execution_count": 6,
   "id": "407cfc08",
   "metadata": {},
   "outputs": [],
   "source": [
    "# Type casting\n",
    "tuple1 = (1,2,3,4)\n",
    "dict1 = dict.fromkeys(tuple1)"
   ]
  },
  {
   "cell_type": "code",
   "execution_count": 7,
   "id": "cd7c32d3",
   "metadata": {},
   "outputs": [
    {
     "data": {
      "text/plain": [
       "{1: None, 2: None, 3: None, 4: None}"
      ]
     },
     "execution_count": 7,
     "metadata": {},
     "output_type": "execute_result"
    }
   ],
   "source": [
    "dict1"
   ]
  },
  {
   "cell_type": "code",
   "execution_count": 8,
   "id": "6e4211b2",
   "metadata": {},
   "outputs": [],
   "source": [
    "# Replacing the value of a key\n",
    "dict['Name'] = \"RajShree\""
   ]
  },
  {
   "cell_type": "code",
   "execution_count": 9,
   "id": "acf9ce5a",
   "metadata": {},
   "outputs": [
    {
     "data": {
      "text/plain": [
       "{'Name': 'RajShree', 'Age': 22}"
      ]
     },
     "execution_count": 9,
     "metadata": {},
     "output_type": "execute_result"
    }
   ],
   "source": [
    "dict"
   ]
  },
  {
   "cell_type": "code",
   "execution_count": null,
   "id": "b4808db6",
   "metadata": {},
   "outputs": [],
   "source": [
    "# Insert a new key value pair\n",
    "dict['Subject']  = \"Data Science\""
   ]
  },
  {
   "cell_type": "code",
   "execution_count": 11,
   "id": "08913131",
   "metadata": {},
   "outputs": [
    {
     "data": {
      "text/plain": [
       "{'Name': 'RajShree', 'Age': 22, 'Subject': 'Data Science'}"
      ]
     },
     "execution_count": 11,
     "metadata": {},
     "output_type": "execute_result"
    }
   ],
   "source": [
    "dict"
   ]
  },
  {
   "cell_type": "code",
   "execution_count": 14,
   "id": "35d79aa0",
   "metadata": {},
   "outputs": [],
   "source": [
    "# Sorting a dictionary by key\n",
    "my_dict = {\n",
    "    \"name\": \"Goutam\",\n",
    "    \"age\": 21,\n",
    "    \"skills\": [\"Python\", \"ML\"]\n",
    "}"
   ]
  },
  {
   "cell_type": "code",
   "execution_count": 15,
   "id": "969a890b",
   "metadata": {},
   "outputs": [
    {
     "data": {
      "text/plain": [
       "dict_values(['Goutam', 21, ['Python', 'ML']])"
      ]
     },
     "execution_count": 15,
     "metadata": {},
     "output_type": "execute_result"
    }
   ],
   "source": [
    "my_dict.values()"
   ]
  },
  {
   "cell_type": "code",
   "execution_count": 16,
   "id": "2941c599",
   "metadata": {},
   "outputs": [
    {
     "data": {
      "text/plain": [
       "dict_keys(['name', 'age', 'skills'])"
      ]
     },
     "execution_count": 16,
     "metadata": {},
     "output_type": "execute_result"
    }
   ],
   "source": [
    "my_dict.keys()"
   ]
  },
  {
   "cell_type": "code",
   "execution_count": 17,
   "id": "7cd80793",
   "metadata": {},
   "outputs": [
    {
     "data": {
      "text/plain": [
       "'Goutam'"
      ]
     },
     "execution_count": 17,
     "metadata": {},
     "output_type": "execute_result"
    }
   ],
   "source": [
    "my_dict.get('name')"
   ]
  },
  {
   "cell_type": "code",
   "execution_count": 18,
   "id": "b6a2eb02",
   "metadata": {},
   "outputs": [],
   "source": [
    "my_dict.update({'age': 22})"
   ]
  },
  {
   "cell_type": "code",
   "execution_count": 19,
   "id": "72969eff",
   "metadata": {},
   "outputs": [
    {
     "data": {
      "text/plain": [
       "{'name': 'Goutam', 'age': 22, 'skills': ['Python', 'ML']}"
      ]
     },
     "execution_count": 19,
     "metadata": {},
     "output_type": "execute_result"
    }
   ],
   "source": [
    "my_dict"
   ]
  }
 ],
 "metadata": {
  "kernelspec": {
   "display_name": "base",
   "language": "python",
   "name": "python3"
  },
  "language_info": {
   "codemirror_mode": {
    "name": "ipython",
    "version": 3
   },
   "file_extension": ".py",
   "mimetype": "text/x-python",
   "name": "python",
   "nbconvert_exporter": "python",
   "pygments_lexer": "ipython3",
   "version": "3.13.5"
  }
 },
 "nbformat": 4,
 "nbformat_minor": 5
}
