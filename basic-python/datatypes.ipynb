{
 "cells": [
  {
   "cell_type": "code",
   "execution_count": 2,
   "id": "05901d74",
   "metadata": {},
   "outputs": [
    {
     "name": "stdout",
     "output_type": "stream",
     "text": [
      "Hello, Niki!\n"
     ]
    }
   ],
   "source": [
    "name = 'Niki'\n",
    "print(f'Hello, {name}!')"
   ]
  },
  {
   "cell_type": "code",
   "execution_count": 3,
   "id": "80eec1c8",
   "metadata": {},
   "outputs": [
    {
     "name": "stdout",
     "output_type": "stream",
     "text": [
      "Hello, Yash Sharma!\n"
     ]
    }
   ],
   "source": [
    "name = input(\"Enter the name : \")\n",
    "print(f'Hello, {name}!')"
   ]
  },
  {
   "cell_type": "markdown",
   "id": "684d38b9",
   "metadata": {},
   "source": [
    "TypeCasting -> during the typecasting there is data lose"
   ]
  },
  {
   "cell_type": "code",
   "execution_count": 4,
   "id": "95dee04f",
   "metadata": {},
   "outputs": [
    {
     "data": {
      "text/plain": [
       "int"
      ]
     },
     "execution_count": 4,
     "metadata": {},
     "output_type": "execute_result"
    }
   ],
   "source": [
    "var = 2\n",
    "type(var)"
   ]
  },
  {
   "cell_type": "code",
   "execution_count": 9,
   "id": "db047b45",
   "metadata": {},
   "outputs": [
    {
     "name": "stdout",
     "output_type": "stream",
     "text": [
      "2.0\n",
      "<class 'float'>\n"
     ]
    }
   ],
   "source": [
    "var1 = 2\n",
    "var2 = float(var1)\n",
    "print(var2)\n",
    "print(type(var2))"
   ]
  },
  {
   "cell_type": "code",
   "execution_count": 10,
   "id": "21af2a6f",
   "metadata": {},
   "outputs": [
    {
     "name": "stdout",
     "output_type": "stream",
     "text": [
      "20\n",
      "<class 'int'>\n"
     ]
    }
   ],
   "source": [
    "nu = 20.90\n",
    "nu1 = int(nu)\n",
    "print(nu1)\n",
    "print(type(nu1))"
   ]
  },
  {
   "cell_type": "code",
   "execution_count": 12,
   "id": "35fbd325",
   "metadata": {},
   "outputs": [
    {
     "name": "stdout",
     "output_type": "stream",
     "text": [
      "90\n",
      "<class 'int'>\n"
     ]
    }
   ],
   "source": [
    "nu = '90'\n",
    "nu1 = int(nu)\n",
    "print(nu1)\n",
    "print(type(nu1))"
   ]
  },
  {
   "cell_type": "code",
   "execution_count": 13,
   "id": "aa47e80d",
   "metadata": {},
   "outputs": [
    {
     "name": "stdout",
     "output_type": "stream",
     "text": [
      "{'name': 'Raja'}\n",
      "<class 'dict'>\n"
     ]
    }
   ],
   "source": [
    "nu = 'Raja'\n",
    "nu1 = dict(name=nu)\n",
    "print(nu1)\n",
    "print(type(nu1))"
   ]
  },
  {
   "cell_type": "code",
   "execution_count": 25,
   "id": "0d816e78",
   "metadata": {},
   "outputs": [
    {
     "name": "stdout",
     "output_type": "stream",
     "text": [
      "['A', 'B', 'C', 'D', 'E']\n"
     ]
    }
   ],
   "source": [
    "var = 'ABCDE'\n",
    "var1 = list(var)\n",
    "print(var1)"
   ]
  },
  {
   "cell_type": "code",
   "execution_count": 21,
   "id": "08546341",
   "metadata": {},
   "outputs": [
    {
     "name": "stdout",
     "output_type": "stream",
     "text": [
      "A\n",
      "B\n",
      "C\n",
      "D\n",
      "E\n"
     ]
    }
   ],
   "source": [
    "print(var[0])\n",
    "print(var[1])\n",
    "print(var[2])\n",
    "print(var[3])\n",
    "print(var[-1])\n",
    "#print(var[5])  # IndexError: string index out of range"
   ]
  },
  {
   "cell_type": "code",
   "execution_count": 24,
   "id": "e044355b",
   "metadata": {},
   "outputs": [],
   "source": [
    "var1[0] = 'F'\n"
   ]
  },
  {
   "cell_type": "code",
   "execution_count": 26,
   "id": "7d706735",
   "metadata": {},
   "outputs": [
    {
     "name": "stdout",
     "output_type": "stream",
     "text": [
      "['A', 'B', 'C', 'D', 'E']\n"
     ]
    }
   ],
   "source": [
    "print(var1)"
   ]
  }
 ],
 "metadata": {
  "kernelspec": {
   "display_name": "base",
   "language": "python",
   "name": "python3"
  },
  "language_info": {
   "codemirror_mode": {
    "name": "ipython",
    "version": 3
   },
   "file_extension": ".py",
   "mimetype": "text/x-python",
   "name": "python",
   "nbconvert_exporter": "python",
   "pygments_lexer": "ipython3",
   "version": "3.13.5"
  }
 },
 "nbformat": 4,
 "nbformat_minor": 5
}
