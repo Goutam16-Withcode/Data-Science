{
 "cells": [
  {
   "cell_type": "code",
   "execution_count": 1,
   "id": "dcce6b5d",
   "metadata": {},
   "outputs": [],
   "source": [
    "class reactangle:\n",
    "    def __init__(self):\n",
    "        self.length=10\n",
    "        self.breadth=5"
   ]
  },
  {
   "cell_type": "code",
   "execution_count": 3,
   "id": "13810294",
   "metadata": {},
   "outputs": [
    {
     "name": "stdout",
     "output_type": "stream",
     "text": [
      "Length :  10 \n",
      " Breadth :  5\n"
     ]
    }
   ],
   "source": [
    "react = reactangle()\n",
    "print(\"Length : \" , react.length ,\"\\n\" , \"Breadth : \" , react.breadth)"
   ]
  },
  {
   "cell_type": "code",
   "execution_count": 3,
   "id": "6c3b1b4d",
   "metadata": {},
   "outputs": [],
   "source": [
    "class Circle:\n",
    "    def __init__(self, radius):\n",
    "        self.radius = radius\n"
   ]
  },
  {
   "cell_type": "code",
   "execution_count": 4,
   "id": "ad7285a2",
   "metadata": {},
   "outputs": [],
   "source": [
    "c = Circle(5)\n"
   ]
  },
  {
   "cell_type": "code",
   "execution_count": 5,
   "id": "acd45fa2",
   "metadata": {},
   "outputs": [
    {
     "name": "stdout",
     "output_type": "stream",
     "text": [
      "Radius :  5\n"
     ]
    }
   ],
   "source": [
    "print(\"Radius : \", c.radius)"
   ]
  }
 ],
 "metadata": {
  "kernelspec": {
   "display_name": "base",
   "language": "python",
   "name": "python3"
  },
  "language_info": {
   "codemirror_mode": {
    "name": "ipython",
    "version": 3
   },
   "file_extension": ".py",
   "mimetype": "text/x-python",
   "name": "python",
   "nbconvert_exporter": "python",
   "pygments_lexer": "ipython3",
   "version": "3.13.5"
  }
 },
 "nbformat": 4,
 "nbformat_minor": 5
}
