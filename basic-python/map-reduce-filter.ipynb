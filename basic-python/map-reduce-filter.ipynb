{
 "cells": [
  {
   "cell_type": "markdown",
   "id": "03108d2c",
   "metadata": {},
   "source": [
    "# Map , Reduce and Filter\n",
    "0. utility function-maps a collection to another collection object based on certain functionlity\n",
    "1. map(function , iterable object)"
   ]
  },
  {
   "cell_type": "code",
   "execution_count": 2,
   "id": "c5bf077c",
   "metadata": {},
   "outputs": [],
   "source": [
    "#Area of the circle\n",
    "import math\n",
    "\n",
    "def area(n) :\n",
    "    return math.pi*(n**2)\n",
    "\n",
    "radii = [1,2,3,4,5]\n",
    "areas = []\n",
    "for r in radii:\n",
    "    a = area(r)\n",
    "    areas.append(a)"
   ]
  },
  {
   "cell_type": "code",
   "execution_count": 3,
   "id": "36e78ab0",
   "metadata": {},
   "outputs": [
    {
     "data": {
      "text/plain": [
       "[3.141592653589793,\n",
       " 12.566370614359172,\n",
       " 28.274333882308138,\n",
       " 50.26548245743669,\n",
       " 78.53981633974483]"
      ]
     },
     "execution_count": 3,
     "metadata": {},
     "output_type": "execute_result"
    }
   ],
   "source": [
    "areas"
   ]
  },
  {
   "cell_type": "code",
   "execution_count": 4,
   "id": "8bd38c2f",
   "metadata": {},
   "outputs": [
    {
     "data": {
      "text/plain": [
       "<map at 0x1cfc1e62aa0>"
      ]
     },
     "execution_count": 4,
     "metadata": {},
     "output_type": "execute_result"
    }
   ],
   "source": [
    "#Using map function\n",
    "map(area, radii)"
   ]
  },
  {
   "cell_type": "code",
   "execution_count": 5,
   "id": "6b946be4",
   "metadata": {},
   "outputs": [
    {
     "data": {
      "text/plain": [
       "[3.141592653589793,\n",
       " 12.566370614359172,\n",
       " 28.274333882308138,\n",
       " 50.26548245743669,\n",
       " 78.53981633974483]"
      ]
     },
     "execution_count": 5,
     "metadata": {},
     "output_type": "execute_result"
    }
   ],
   "source": [
    "list(map(area, radii))"
   ]
  },
  {
   "cell_type": "code",
   "execution_count": 6,
   "id": "0c79cbf9",
   "metadata": {},
   "outputs": [],
   "source": [
    "# Convert the Celsius to Fahrenheit using the F = (C * 9/5) + 32 formula\n",
    "def c_to_f(c):\n",
    "    return (c * 9/5) + 32\n",
    "\n",
    "c = [0, 10, 20.1, 34.5]\n",
    "x = list(map(c_to_f, c))"
   ]
  },
  {
   "cell_type": "code",
   "execution_count": 7,
   "id": "3696ecf2",
   "metadata": {},
   "outputs": [
    {
     "data": {
      "text/plain": [
       "[32.0, 50.0, 68.18, 94.1]"
      ]
     },
     "execution_count": 7,
     "metadata": {},
     "output_type": "execute_result"
    }
   ],
   "source": [
    "x"
   ]
  },
  {
   "cell_type": "code",
   "execution_count": 8,
   "id": "a4ef22ac",
   "metadata": {},
   "outputs": [],
   "source": [
    "# Filter function\n",
    "def is_even(n):\n",
    "    return n%2 == 0\n",
    "\n",
    "f = [1,2,3,4,5,6,7,8,9,10]\n",
    "even_numbers = list(filter(is_even, f))"
   ]
  },
  {
   "cell_type": "code",
   "execution_count": 9,
   "id": "7090ac1c",
   "metadata": {},
   "outputs": [
    {
     "data": {
      "text/plain": [
       "[2, 4, 6, 8, 10]"
      ]
     },
     "execution_count": 9,
     "metadata": {},
     "output_type": "execute_result"
    }
   ],
   "source": [
    "even_numbers"
   ]
  },
  {
   "cell_type": "code",
   "execution_count": 10,
   "id": "186d0933",
   "metadata": {},
   "outputs": [],
   "source": [
    "import statistics\n",
    "data = [1,2,3,4,5,9,12,15,18,20]\n",
    "avg = statistics.mean(data)"
   ]
  },
  {
   "cell_type": "code",
   "execution_count": 11,
   "id": "fc3112d9",
   "metadata": {},
   "outputs": [
    {
     "data": {
      "text/plain": [
       "8.9"
      ]
     },
     "execution_count": 11,
     "metadata": {},
     "output_type": "execute_result"
    }
   ],
   "source": [
    "avg"
   ]
  },
  {
   "cell_type": "code",
   "execution_count": 15,
   "id": "093be94c",
   "metadata": {},
   "outputs": [
    {
     "data": {
      "text/plain": [
       "[9, 12, 15, 18, 20]"
      ]
     },
     "execution_count": 15,
     "metadata": {},
     "output_type": "execute_result"
    }
   ],
   "source": [
    "list(filter(lambda x: x > avg, data))"
   ]
  },
  {
   "cell_type": "code",
   "execution_count": 2,
   "id": "6bccaaa7",
   "metadata": {},
   "outputs": [],
   "source": [
    "####Getting ride of the null/NaN Values\n",
    "name = [\"Rja\" , \"Neha\" , 0 , 0.0  , \"\" , \"Namrate\"]"
   ]
  },
  {
   "cell_type": "code",
   "execution_count": 3,
   "id": "4aae8bdc",
   "metadata": {},
   "outputs": [
    {
     "data": {
      "text/plain": [
       "<filter at 0x20ac54f2830>"
      ]
     },
     "execution_count": 3,
     "metadata": {},
     "output_type": "execute_result"
    }
   ],
   "source": [
    "filter(None, name)"
   ]
  },
  {
   "cell_type": "code",
   "execution_count": 4,
   "id": "f28f284c",
   "metadata": {},
   "outputs": [
    {
     "data": {
      "text/plain": [
       "['Rja', 'Neha', 'Namrate']"
      ]
     },
     "execution_count": 4,
     "metadata": {},
     "output_type": "execute_result"
    }
   ],
   "source": [
    "list(filter(None, name))"
   ]
  },
  {
   "cell_type": "code",
   "execution_count": 9,
   "id": "89ae1430",
   "metadata": {},
   "outputs": [],
   "source": [
    "name1 = [12,19,21,0,0.0,11,\"\" , 5,9]"
   ]
  },
  {
   "cell_type": "code",
   "execution_count": 10,
   "id": "06e7eafc",
   "metadata": {},
   "outputs": [
    {
     "data": {
      "text/plain": [
       "<filter at 0x20ac5525780>"
      ]
     },
     "execution_count": 10,
     "metadata": {},
     "output_type": "execute_result"
    }
   ],
   "source": [
    "filter(None, name1)"
   ]
  },
  {
   "cell_type": "code",
   "execution_count": 11,
   "id": "6f3d5388",
   "metadata": {},
   "outputs": [
    {
     "data": {
      "text/plain": [
       "[12, 19, 21, 11, 5, 9]"
      ]
     },
     "execution_count": 11,
     "metadata": {},
     "output_type": "execute_result"
    }
   ],
   "source": [
    "list(filter(None, name1))"
   ]
  },
  {
   "cell_type": "code",
   "execution_count": 14,
   "id": "f916bdf6",
   "metadata": {},
   "outputs": [],
   "source": [
    "# reduce function\n",
    "from functools import reduce\n",
    "\n",
    "data = [1,2,3,4,5]"
   ]
  },
  {
   "cell_type": "code",
   "execution_count": 15,
   "id": "8ff6a5cd",
   "metadata": {},
   "outputs": [
    {
     "data": {
      "text/plain": [
       "120"
      ]
     },
     "execution_count": 15,
     "metadata": {},
     "output_type": "execute_result"
    }
   ],
   "source": [
    "multi = lambda X , Y : X * Y\n",
    "reduce(multi, data)"
   ]
  },
  {
   "cell_type": "code",
   "execution_count": 16,
   "id": "e29a4a1b",
   "metadata": {},
   "outputs": [
    {
     "data": {
      "text/plain": [
       "15"
      ]
     },
     "execution_count": 16,
     "metadata": {},
     "output_type": "execute_result"
    }
   ],
   "source": [
    "sum = lambda X , Y : X + Y\n",
    "reduce(sum, data)"
   ]
  }
 ],
 "metadata": {
  "kernelspec": {
   "display_name": "base",
   "language": "python",
   "name": "python3"
  },
  "language_info": {
   "codemirror_mode": {
    "name": "ipython",
    "version": 3
   },
   "file_extension": ".py",
   "mimetype": "text/x-python",
   "name": "python",
   "nbconvert_exporter": "python",
   "pygments_lexer": "ipython3",
   "version": "3.13.5"
  }
 },
 "nbformat": 4,
 "nbformat_minor": 5
}
