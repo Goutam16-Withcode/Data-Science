{
 "cells": [
  {
   "cell_type": "code",
   "execution_count": 1,
   "id": "9afe7f24",
   "metadata": {},
   "outputs": [
    {
     "name": "stdout",
     "output_type": "stream",
     "text": [
      "Iteration 0\n",
      "Iteration 1\n",
      "Iteration 2\n",
      "Iteration 3\n",
      "Iteration 4\n"
     ]
    }
   ],
   "source": [
    "# For-Loop\n",
    "for i in range(5):\n",
    "    print(f\"Iteration {i}\")"
   ]
  },
  {
   "cell_type": "code",
   "execution_count": 2,
   "id": "443ac448",
   "metadata": {},
   "outputs": [
    {
     "name": "stdout",
     "output_type": "stream",
     "text": [
      "1\n",
      "2\n",
      "3\n",
      "4\n",
      "Loop is over\n"
     ]
    }
   ],
   "source": [
    "for i in range(1,5):\n",
    "    print(i)\n",
    "else:\n",
    "    print(\"Loop is over\")"
   ]
  },
  {
   "cell_type": "code",
   "execution_count": 3,
   "id": "144d4c5c",
   "metadata": {},
   "outputs": [
    {
     "name": "stdout",
     "output_type": "stream",
     "text": [
      "1\n",
      "2\n",
      "3\n",
      "4\n",
      "5\n"
     ]
    }
   ],
   "source": [
    "#While-Loop\n",
    "i = 1\n",
    "while i < 6:\n",
    "    print(i)\n",
    "    i += 1"
   ]
  },
  {
   "cell_type": "code",
   "execution_count": 6,
   "id": "49c1ba59",
   "metadata": {},
   "outputs": [
    {
     "name": "stdout",
     "output_type": "stream",
     "text": [
      "562326558 Even Number\n"
     ]
    }
   ],
   "source": [
    "# Check whether a number is odd or even\n",
    "n = int(input(\"Enter a number: \"))\n",
    "if n%2==0:\n",
    "    print(n , \"Even Number\")\n",
    "else:\n",
    "    print(n , \"Odd Number\")"
   ]
  },
  {
   "cell_type": "code",
   "execution_count": null,
   "id": "f4efc53b",
   "metadata": {},
   "outputs": [],
   "source": [
    "# Party Question\n",
    "age = int(input\n",
    "          (\"Enter your age : \"))\n",
    "if age >= 18:\n",
    "    print(\"You are eligible to vote.\")\n",
    "else:\n",
    "    print(\"You are not eligible to vote.\")"
   ]
  },
  {
   "cell_type": "code",
   "execution_count": 2,
   "id": "bfbf06a6",
   "metadata": {},
   "outputs": [
    {
     "name": "stdout",
     "output_type": "stream",
     "text": [
      "H\n",
      "e\n",
      "l\n",
      "l\n",
      "o\n",
      " \n",
      "w\n",
      "o\n",
      "r\n",
      "l\n",
      "d\n"
     ]
    }
   ],
   "source": [
    "str_1 = \"Hello world\"\n",
    "for i in str_1:\n",
    "    print(i)"
   ]
  },
  {
   "cell_type": "code",
   "execution_count": 3,
   "id": "67726633",
   "metadata": {},
   "outputs": [
    {
     "name": "stdout",
     "output_type": "stream",
     "text": [
      "1  :  ['Sam', 25]\n",
      "2  :  ['Alex', 30]\n",
      "3  :  ['Bob', 22]\n"
     ]
    }
   ],
   "source": [
    "# Iterate over the Dictionary\n",
    "my_dict = {1 : ['Sam', 25] , 2 : ['Alex', 30] , 3 : ['Bob', 22]}\n",
    "for i in my_dict:\n",
    "    print(i , \" : \" , my_dict[i])"
   ]
  },
  {
   "cell_type": "code",
   "execution_count": 4,
   "id": "6d604b44",
   "metadata": {},
   "outputs": [
    {
     "name": "stdout",
     "output_type": "stream",
     "text": [
      "(1, ['Sam', 25])\n",
      "(2, ['Alex', 30])\n",
      "(3, ['Bob', 22])\n"
     ]
    }
   ],
   "source": [
    "# Another way of Iterate over the Dictionary\n",
    "my_dict = {1 : ['Sam', 25] , 2 : ['Alex', 30] , 3 : ['Bob', 22]}\n",
    "for i in my_dict.items():\n",
    "    print(i )"
   ]
  },
  {
   "cell_type": "code",
   "execution_count": 5,
   "id": "f31cb895",
   "metadata": {},
   "outputs": [
    {
     "name": "stdout",
     "output_type": "stream",
     "text": [
      "['Sam', 25]\n",
      "['Alex', 30]\n",
      "['Bob', 22]\n"
     ]
    }
   ],
   "source": [
    "# Another way of Iterate over the Dictionary\n",
    "my_dict = {1 : ['Sam', 25] , 2 : ['Alex', 30] , 3 : ['Bob', 22]}\n",
    "for i , j in my_dict.items():\n",
    "    print(j)"
   ]
  },
  {
   "cell_type": "code",
   "execution_count": 6,
   "id": "4cf22ce0",
   "metadata": {},
   "outputs": [
    {
     "name": "stdout",
     "output_type": "stream",
     "text": [
      "[11, 5, 6, 3, 4, 3]\n"
     ]
    }
   ],
   "source": [
    "# Comprehensions\n",
    "list1 = [\"Automobiles\" , \"Honda\" , \"Toyota\" , \"BMW\" , \"Audi\" , \"Kia\"]\n",
    "list2 = []\n",
    "\n",
    "for i in list1:\n",
    "    list2.append(len(i))\n",
    "print(list2)"
   ]
  },
  {
   "cell_type": "code",
   "execution_count": null,
   "id": "ff70a47c",
   "metadata": {},
   "outputs": [
    {
     "name": "stdout",
     "output_type": "stream",
     "text": [
      "['Automobiles', 'Honda', 'Toyota', 'BMW', 'Audi', 'Kia']\n"
     ]
    }
   ],
   "source": [
    "# Comprehensions\n",
    "list1 = [\"Automobiles\" , \"Honda\" , \"Toyota\" , \"BMW\" , \"Audi\" , \"Kia\"]\n",
    "list2 = [len(i) for i in list1]\n",
    "print(list2)"
   ]
  },
  {
   "cell_type": "code",
   "execution_count": 9,
   "id": "2e0f2ac2",
   "metadata": {},
   "outputs": [
    {
     "name": "stdout",
     "output_type": "stream",
     "text": [
      "{'Automobiles': 11, 'Honda': 5, 'Toyota': 6, 'BMW': 3, 'Audi': 4, 'Kia': 3}\n"
     ]
    }
   ],
   "source": [
    "# Comprehensions\n",
    "list1 = [\"Automobiles\" , \"Honda\" , \"Toyota\" , \"BMW\" , \"Audi\" , \"Kia\"]\n",
    "list2 = {i : len(i) for i in list1}\n",
    "print(list2)"
   ]
  }
 ],
 "metadata": {
  "kernelspec": {
   "display_name": "base",
   "language": "python",
   "name": "python3"
  },
  "language_info": {
   "codemirror_mode": {
    "name": "ipython",
    "version": 3
   },
   "file_extension": ".py",
   "mimetype": "text/x-python",
   "name": "python",
   "nbconvert_exporter": "python",
   "pygments_lexer": "ipython3",
   "version": "3.13.5"
  }
 },
 "nbformat": 4,
 "nbformat_minor": 5
}
