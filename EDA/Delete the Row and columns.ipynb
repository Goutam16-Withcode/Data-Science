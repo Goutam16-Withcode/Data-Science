{
 "cells": [
  {
   "cell_type": "markdown",
   "id": "46b411c1",
   "metadata": {},
   "source": [
    "1. Delete Rows/ Columns(Small Missing Value data)\n",
    "2. Steps Checking the missing values in dataset by df.isnull().sum()\n",
    "3. Decide whether to drop rows or columns:\n",
    "Drop rows: if only a few rows have missing values (df_rows_dropped = df.dropna())\n",
    "Drop columns: if the column has too many missing values(df_cols_dropped = df.dropna(axis=1)).\n",
    "4. When to Use: Small proportion of missing data, irrelevant columns"
   ]
  },
  {
   "cell_type": "markdown",
   "id": "6099670e",
   "metadata": {},
   "source": [
    "2. Large Proportion of Missing Data\n",
    "\n",
    "Definition: Many values missing in a column (e.g., >30–50%)\n",
    "\n",
    "Recommended Approaches:\n",
    "\n",
    "Drop the column → df.dropna(axis=1) if column is irrelevant\n",
    "\n",
    "Imputation / Prediction → If column is important, fill missing values:\n",
    "\n",
    "Mean / Median / Mode (for numeric or categorical)\n",
    "\n",
    "Forward / Backward Fill (for time series)\n",
    "\n",
    "Algorithm-based Imputation / ML prediction (for complex datasets)\n",
    "\n",
    "Tip:\n",
    "\n",
    "Always analyze the importance of the column before dropping it.\n",
    "\n",
    "Use visualization libraries like missingno to see missing data patterns:\n",
    "\n",
    "import missingno as msno\n",
    "msno.matrix(df)"
   ]
  },
  {
   "cell_type": "code",
   "execution_count": 1,
   "id": "7e96090e",
   "metadata": {},
   "outputs": [],
   "source": [
    "import numpy as np\n",
    "import matplotlib.pyplot as plt\n",
    "import pandas as pd"
   ]
  },
  {
   "cell_type": "code",
   "execution_count": 2,
   "id": "6451d9b7",
   "metadata": {},
   "outputs": [],
   "source": [
    "df = pd.read_csv('Churn_Modelling.csv')"
   ]
  },
  {
   "cell_type": "code",
   "execution_count": 3,
   "id": "1eb78130",
   "metadata": {},
   "outputs": [
    {
     "name": "stdout",
     "output_type": "stream",
     "text": [
      "<class 'pandas.core.frame.DataFrame'>\n",
      "RangeIndex: 10000 entries, 0 to 9999\n",
      "Data columns (total 14 columns):\n",
      " #   Column           Non-Null Count  Dtype  \n",
      "---  ------           --------------  -----  \n",
      " 0   RowNumber        10000 non-null  int64  \n",
      " 1   CustomerId       10000 non-null  int64  \n",
      " 2   Surname          10000 non-null  object \n",
      " 3   CreditScore      10000 non-null  int64  \n",
      " 4   Geography        10000 non-null  object \n",
      " 5   Gender           10000 non-null  object \n",
      " 6   Age              10000 non-null  int64  \n",
      " 7   Tenure           10000 non-null  int64  \n",
      " 8   Balance          10000 non-null  float64\n",
      " 9   NumOfProducts    10000 non-null  int64  \n",
      " 10  HasCrCard        10000 non-null  int64  \n",
      " 11  IsActiveMember   10000 non-null  int64  \n",
      " 12  EstimatedSalary  10000 non-null  float64\n",
      " 13  Exited           10000 non-null  int64  \n",
      "dtypes: float64(2), int64(9), object(3)\n",
      "memory usage: 1.1+ MB\n"
     ]
    }
   ],
   "source": [
    "df.info()"
   ]
  },
  {
   "cell_type": "code",
   "execution_count": 4,
   "id": "0b4c9ba2",
   "metadata": {},
   "outputs": [],
   "source": [
    "missing_values = df.isnull().sum()"
   ]
  },
  {
   "cell_type": "code",
   "execution_count": 6,
   "id": "7b379867",
   "metadata": {},
   "outputs": [],
   "source": [
    "missing_percent = (missing_values / len(df)) * 100"
   ]
  },
  {
   "cell_type": "code",
   "execution_count": 8,
   "id": "0efee384",
   "metadata": {},
   "outputs": [
    {
     "data": {
      "text/plain": [
       "RowNumber          0.0\n",
       "CustomerId         0.0\n",
       "Surname            0.0\n",
       "CreditScore        0.0\n",
       "Geography          0.0\n",
       "Gender             0.0\n",
       "Age                0.0\n",
       "Tenure             0.0\n",
       "Balance            0.0\n",
       "NumOfProducts      0.0\n",
       "HasCrCard          0.0\n",
       "IsActiveMember     0.0\n",
       "EstimatedSalary    0.0\n",
       "Exited             0.0\n",
       "dtype: float64"
      ]
     },
     "execution_count": 8,
     "metadata": {},
     "output_type": "execute_result"
    }
   ],
   "source": [
    "missing_percent"
   ]
  },
  {
   "cell_type": "code",
   "execution_count": 7,
   "id": "487b8bb3",
   "metadata": {},
   "outputs": [
    {
     "data": {
      "text/plain": [
       "RowNumber          0\n",
       "CustomerId         0\n",
       "Surname            0\n",
       "CreditScore        0\n",
       "Geography          0\n",
       "Gender             0\n",
       "Age                0\n",
       "Tenure             0\n",
       "Balance            0\n",
       "NumOfProducts      0\n",
       "HasCrCard          0\n",
       "IsActiveMember     0\n",
       "EstimatedSalary    0\n",
       "Exited             0\n",
       "dtype: int64"
      ]
     },
     "execution_count": 7,
     "metadata": {},
     "output_type": "execute_result"
    }
   ],
   "source": [
    "missing_values"
   ]
  },
  {
   "cell_type": "code",
   "execution_count": 9,
   "id": "f5c75a0e",
   "metadata": {},
   "outputs": [
    {
     "name": "stdout",
     "output_type": "stream",
     "text": [
      "Dropped columns: []\n"
     ]
    }
   ],
   "source": [
    "# Removing the columns with more than 50% missing values\n",
    "thereshold = 50\n",
    "cols_to_drop = missing_percent[missing_percent > thereshold].index\n",
    "df_cleaned = df.drop(columns=cols_to_drop)\n",
    "print(f\"Dropped columns: {cols_to_drop.tolist()}\")"
   ]
  },
  {
   "cell_type": "code",
   "execution_count": 10,
   "id": "428dd520",
   "metadata": {},
   "outputs": [],
   "source": [
    "df_cleaned = df_cleaned.dropna(axis=0)"
   ]
  },
  {
   "cell_type": "code",
   "execution_count": 11,
   "id": "fc5d4423",
   "metadata": {},
   "outputs": [],
   "source": [
    "df_cleaned = df_cleaned.dropna(axis=1)"
   ]
  },
  {
   "cell_type": "code",
   "execution_count": 12,
   "id": "e72ff832",
   "metadata": {},
   "outputs": [
    {
     "name": "stdout",
     "output_type": "stream",
     "text": [
      "Missing Values After Cleaning:\n",
      " RowNumber          0\n",
      "CustomerId         0\n",
      "Surname            0\n",
      "CreditScore        0\n",
      "Geography          0\n",
      "Gender             0\n",
      "Age                0\n",
      "Tenure             0\n",
      "Balance            0\n",
      "NumOfProducts      0\n",
      "HasCrCard          0\n",
      "IsActiveMember     0\n",
      "EstimatedSalary    0\n",
      "Exited             0\n",
      "dtype: int64\n"
     ]
    }
   ],
   "source": [
    "missing_values_after = df_cleaned.isnull().sum()\n",
    "print(\"Missing Values After Cleaning:\\n\", missing_values_after)"
   ]
  }
 ],
 "metadata": {
  "kernelspec": {
   "display_name": "base",
   "language": "python",
   "name": "python3"
  },
  "language_info": {
   "codemirror_mode": {
    "name": "ipython",
    "version": 3
   },
   "file_extension": ".py",
   "mimetype": "text/x-python",
   "name": "python",
   "nbconvert_exporter": "python",
   "pygments_lexer": "ipython3",
   "version": "3.13.5"
  }
 },
 "nbformat": 4,
 "nbformat_minor": 5
}
