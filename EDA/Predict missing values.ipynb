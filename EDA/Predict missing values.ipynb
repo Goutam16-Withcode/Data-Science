{
 "cells": [
  {
   "cell_type": "markdown",
   "id": "670dee8c",
   "metadata": {},
   "source": [
    "# Predicting Missing Values\n",
    "Predicting missing values means estimating the missing data using patterns in other features of the dataset, instead of just filling with mean/median/mode.\n",
    "\n",
    "Think of it as a mini-prediction problem: the missing value becomes the target variable, and the other columns are features.\n",
    "\n",
    "Common approaches:\n",
    "\n",
    "k-Nearest Neighbors (k-NN) Imputer\n",
    "\n",
    "Regression / Classification Models\n",
    "\n",
    "Iterative Imputer (multiple regressions to predict missing values)\n",
    "\n",
    "When missing values are important for analysis or model training\n",
    "\n",
    "When simple replacement (mean, median) would distort data distribution\n",
    "\n",
    "When features are correlated, we can use other features to estimate missing values more accurately"
   ]
  },
  {
   "cell_type": "markdown",
   "id": "119a7122",
   "metadata": {},
   "source": [
    "Steps : \n",
    "1. Identify the missing values.\n",
    "2. Decide Prediction Approach\n",
    "Numeric Missing Values: k-NN, Regression, Iterative Imputer\n",
    "Categorical Missing Values: Classification models, Mode + prediction\n",
    "3. k-NN Imputer (Simple Predictive Imputation)\n",
    "Idea: Fill missing values by averaging k nearest neighbors based on other features.\n",
    "4. Iterative Imputer (More Advanced)\n",
    "Uses regression models internally to predict missing values\n",
    "Can handle complex dependencies between features\n",
    "5. Using a Regression Model (Optional)\n",
    "Separate rows with missing values and rows without missing values\n",
    "Train a regression model on rows without missing values\n",
    "Predict missing values"
   ]
  }
 ],
 "metadata": {
  "language_info": {
   "name": "python"
  }
 },
 "nbformat": 4,
 "nbformat_minor": 5
}
