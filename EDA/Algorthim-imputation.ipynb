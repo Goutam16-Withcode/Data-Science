{
 "cells": [
  {
   "cell_type": "markdown",
   "id": "7ef04124",
   "metadata": {},
   "source": [
    "# Algorithm Based Imputation \n",
    "Algorithm-based imputation is a method of filling missing values using statistical or machine learning algorithms rather than simple replacements (mean/median/mode).It predicts missing values based on the relationships between features.Often used when data has complex patterns or dependencies between columns.\n",
    "\n",
    "Examples:\n",
    "Iterative Imputer (Multiple regression imputation)\n",
    "Decision Tree / Random Forest Imputation\n",
    "KNN Imputer (neighbor-based)"
   ]
  },
  {
   "cell_type": "markdown",
   "id": "52cef5da",
   "metadata": {},
   "source": [
    "Why Use Algorithm-Based Imputation?\n",
    "\n",
    "Preserves more information than simply dropping rows or columns\n",
    "\n",
    "Accounts for feature correlations\n",
    "\n",
    "More accurate than mean/median replacement, especially in large datasets\n",
    "\n",
    "Essential for machine learning models where missing values can bias results"
   ]
  }
 ],
 "metadata": {
  "language_info": {
   "name": "python"
  }
 },
 "nbformat": 4,
 "nbformat_minor": 5
}
