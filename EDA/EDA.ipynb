{
 "cells": [
  {
   "cell_type": "markdown",
   "id": "8eeeadb3",
   "metadata": {},
   "source": [
    "# EDA (Exploratory Data Analysis): \n",
    "1. It is the process of analyzing and summarizing datasets to\n",
    "2. Understand the main characteristics of the data\n",
    "3. Detect patterns, trends, and relationships\n",
    "4. Find missing values or anomalies\n",
    "5. Generate insights before applying machine learning or statistical models"
   ]
  },
  {
   "cell_type": "code",
   "execution_count": null,
   "id": "48bc040d",
   "metadata": {
    "vscode": {
     "languageId": "plaintext"
    }
   },
   "outputs": [],
   "source": []
  }
 ],
 "metadata": {
  "language_info": {
   "name": "python"
  }
 },
 "nbformat": 4,
 "nbformat_minor": 5
}
