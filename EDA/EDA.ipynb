{
 "cells": [
  {
   "cell_type": "markdown",
   "id": "8eeeadb3",
   "metadata": {},
   "source": [
    "# EDA (Exploratory Data Analysis): \n",
    "1. It is the process of analyzing and summarizing datasets to\n",
    "2. Understand the main characteristics of the data\n",
    "3. Detect patterns, trends, and relationships\n",
    "4. Find missing values or anomalies\n",
    "5. Generate insights before applying machine learning or statistical models"
   ]
  },
  {
   "cell_type": "markdown",
   "id": "8b43d17e",
   "metadata": {},
   "source": [
    "# Visualization\n",
    "1. It is the presentation of the data in the graphical or visual form to understand the data more clearly \n",
    "2. Steps : \n",
    "  1. Easily understand the features of the  data\n",
    "  2. Easily analyze the data  and summarize it    \n",
    "  3. Help to get the meaningful insights from the data \n",
    "  4. Help to find the trend or pattern of the data"
   ]
  },
  {
   "cell_type": "code",
   "execution_count": null,
   "id": "48bc040d",
   "metadata": {
    "vscode": {
     "languageId": "plaintext"
    }
   },
   "outputs": [],
   "source": []
  }
 ],
 "metadata": {
  "language_info": {
   "name": "python"
  }
 },
 "nbformat": 4,
 "nbformat_minor": 5
}
