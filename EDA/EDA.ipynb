{
 "cells": [
  {
   "cell_type": "markdown",
   "id": "8eeeadb3",
   "metadata": {},
   "source": [
    "# EDA (Exploratory Data Analysis): \n",
    "1. It is the process of analyzing and summarizing datasets to\n",
    "2. Understand the main characteristics of the data\n",
    "3. Detect patterns, trends, and relationships\n",
    "4. Find missing values or anomalies\n",
    "5. Generate insights before applying machine learning or statistical models"
   ]
  },
  {
   "cell_type": "markdown",
   "id": "8b43d17e",
   "metadata": {},
   "source": [
    "# Visualization\n",
    "1. It is the presentation of the data in the graphical or visual form to understand the data more clearly \n",
    "2. Advantage of Visualization : \n",
    "  1. Easily understand the features of the  data\n",
    "  2. Easily analyze the data  and summarize it    \n",
    "  3. Help to get the meaningful insights from the data \n",
    "  4. Help to find the trend or pattern of the data\n",
    "3. Different type of the visualization : Line , Bar , Hostogram , Scatter Plot "
   ]
  },
  {
   "cell_type": "markdown",
   "id": "49b9d570",
   "metadata": {},
   "source": [
    "# Steps of the EDA are : \n",
    "Data Sourcing --> Data Cleaning --> Categorical Analysis --> Numerical Analysis --> Derived Metrices"
   ]
  },
  {
   "cell_type": "markdown",
   "id": "e6161985",
   "metadata": {},
   "source": [
    "# Data Sourcing ->\n",
    "1. It is the process of the gathering data from multiple sources as external or internal data collection\n",
    "2. Two Types --> (1) Public Data (2) Private Data"
   ]
  },
  {
   "cell_type": "markdown",
   "id": "8252e537",
   "metadata": {},
   "source": [
    "# Data Cleaning\n",
    "1. It is the process of detecting and correcting (or removing) errors and inconsistencies in data to improve its quality, accuracy, and usability.\n",
    "2. steps (1) Handle Missing Values (2) Standarization of the data (3) Outlier Treatment (4) Handle Invalid Values"
   ]
  },
  {
   "cell_type": "markdown",
   "id": "63c7a10d",
   "metadata": {},
   "source": [
    "# Handle Missing Values\n",
    "1. Delete the Rows/Columns\n",
    "2. Predicting the Missing Values\n",
    "3. Algorithm based imputation\n",
    "4. Replacing with Mean/mode/median"
   ]
  }
 ],
 "metadata": {
  "kernelspec": {
   "display_name": "base",
   "language": "python",
   "name": "python3"
  },
  "language_info": {
   "name": "python",
   "version": "3.13.5"
  }
 },
 "nbformat": 4,
 "nbformat_minor": 5
}
